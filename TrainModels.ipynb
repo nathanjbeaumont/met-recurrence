{
 "cells": [
  {
   "cell_type": "code",
   "execution_count": null,
   "id": "190ee745",
   "metadata": {},
   "outputs": [],
   "source": [
    "import pickle\n",
    "import numpy as np\n",
    "from sklearn import svm\n",
    "from sklearn.pipeline import make_pipeline\n",
    "from sklearn.utils import shuffle\n",
    "from sklearn.model_selection import cross_validate, GridSearchCV, StratifiedKFold\n",
    "from sklearn.linear_model import LogisticRegression\n",
    "from sklearn.metrics import recall_score, accuracy_score, make_scorer\n",
    "from sklearn.ensemble import RandomForestClassifier, AdaBoostClassifier\n",
    "from sklearn.preprocessing import StandardScaler\n",
    "from sklearn.feature_selection import SelectKBest\n",
    "from sklearn.feature_selection import f_regression\n",
    "from pathlib import Path"
   ]
  },
  {
   "cell_type": "markdown",
   "id": "456677f3",
   "metadata": {},
   "source": [
    "Load Radiomics Matrix"
   ]
  },
  {
   "cell_type": "code",
   "execution_count": null,
   "id": "d5c63332",
   "metadata": {
    "scrolled": true
   },
   "outputs": [],
   "source": [
    "timepoint = \"3month\"\n",
    "radiomics_folder = Path(r\"C:\\Met Recurrence\\RadiomicsMRIsFixed\\binWidth0p015N4viaOtsuNoResample0percExpansion3month\")\n",
    "radiomics_path = radiomics_folder / f\"{timepoint}_contour_extractions_mat.npy\"\n",
    "radiomics = np.load(radiomics_path)\n",
    "labels_path = radiomics_folder / f\"{timepoint}_labels.npy\"\n",
    "labels = np.load(labels_path)\n",
    "print(radiomics.shape)\n",
    "print(labels.shape)"
   ]
  },
  {
   "cell_type": "code",
   "execution_count": null,
   "id": "d0b0883e",
   "metadata": {},
   "outputs": [],
   "source": [
    "with open(radiomics_folder / f\"{timepoint}_feature_names.pkl\", 'rb') as f:\n",
    "    feature_names = pickle.load(f)\n",
    "\n",
    "with open(radiomics_folder / f\"{timepoint}_contour_path_list.pkl\", 'rb') as f:\n",
    "    contour_paths = pickle.load(f)\n",
    "\n",
    "with open(radiomics_folder / f\"{timepoint}_mri_path_list.pkl\", 'rb') as f:\n",
    "    mri_paths = pickle.load(f)\n",
    "\n",
    "for i in range(6,8):\n",
    "    print(contour_paths[i])\n",
    "    print(mri_paths[i])\n",
    "    print(labels[i])"
   ]
  },
  {
   "cell_type": "code",
   "execution_count": null,
   "id": "310dd527",
   "metadata": {},
   "outputs": [],
   "source": [
    "feature_names[0:10]"
   ]
  },
  {
   "cell_type": "markdown",
   "id": "a5df2d43",
   "metadata": {},
   "source": [
    "Select Patients"
   ]
  },
  {
   "cell_type": "code",
   "execution_count": null,
   "id": "1d9437a6",
   "metadata": {},
   "outputs": [],
   "source": [
    "# # Select patients by primary tumor type\n",
    "# histology_df = pd.read_csv(r\"C:\\Met Recurrence\\MRNvsStudyIDvsPrimaryHistology.csv\")\n",
    "# selected_study_ids = set(histology_df['Study ID'][histology_df['Primary_histology'] == 1])\n",
    "# feature_mat_study_ids = [int(Path(mri_path).parent.name) for mri_path in mri_paths]\n",
    "# print(f\"There are {len(selected_study_ids.intersection(set(feature_mat_study_ids)))} patients with selected tumor type\")\n",
    "# selected_bool_array = [study_id in selected_study_ids for study_id in feature_mat_study_ids]\n",
    "# radiomics_tumor_type_selected = radiomics[selected_bool_array, :]\n",
    "# labels_selected = labels[selected_bool_array]\n",
    "# labels_selected.shape\n",
    "radiomics_tumor_type_selected = radiomics\n",
    "labels_selected = labels"
   ]
  },
  {
   "cell_type": "markdown",
   "id": "3b58fe77",
   "metadata": {},
   "source": [
    "Do Feature Selection"
   ]
  },
  {
   "cell_type": "code",
   "execution_count": null,
   "id": "7e1283e6",
   "metadata": {},
   "outputs": [],
   "source": [
    "# ANOVA feature selection for numeric input and categorical output, (ANOVA with 2 classes is a t-test)\n",
    "fs = SelectKBest(score_func=f_regression, k=10)\n",
    "radiomics_feature_selected = fs.fit_transform(radiomics_tumor_type_selected, labels_selected)\n",
    "radiomics_feature_selected.shape\n",
    "fs.get_feature_names_out(feature_names)"
   ]
  },
  {
   "cell_type": "code",
   "execution_count": null,
   "id": "9c31a154",
   "metadata": {},
   "outputs": [],
   "source": [
    "fs.scores_[fs.get_support()]\n",
    "# feature_names_np = np.array(feature_names, dtype=object)\n",
    "# feature_names_np[fs.get_support()]"
   ]
  },
  {
   "cell_type": "code",
   "execution_count": null,
   "id": "8ddbd7fb",
   "metadata": {},
   "outputs": [],
   "source": [
    "f_values, ps = f_regression(radiomics_tumor_type_selected, labels_selected)  # get p values\n",
    "ps[fs.get_support()]"
   ]
  },
  {
   "cell_type": "markdown",
   "id": "c472b988",
   "metadata": {},
   "source": [
    "Random Forest"
   ]
  },
  {
   "cell_type": "code",
   "execution_count": null,
   "id": "a2dfd030",
   "metadata": {},
   "outputs": [],
   "source": [
    "# # Random Forest\n",
    "# # first get the best hyperparameters\n",
    "param_grid = {'randomforestclassifier__n_estimators':[10, 100, 200], 'randomforestclassifier__max_depth':[2, 5, None]}\n",
    "mean_test_score_list = []\n",
    "for i in range(5):\n",
    "    radiomics_shuffled, labels_shuffled = shuffle(radiomics_feature_selected, labels_selected)\n",
    "    pipe = make_pipeline(StandardScaler(), RandomForestClassifier())\n",
    "    grid = GridSearchCV(pipe, param_grid=param_grid)\n",
    "    grid.fit(radiomics_shuffled, labels_shuffled)\n",
    "    mean_test_score_list.append(grid.cv_results_['mean_test_score'])\n",
    "    print(grid.best_params_)\n",
    "    print(grid.best_score_)\n",
    "mean_test_scores = np.stack(mean_test_score_list, axis=1)\n",
    "best_score_index = np.argmax(np.mean(mean_test_scores, axis=1))\n",
    "best_n_estimators = grid.cv_results_['param_randomforestclassifier__n_estimators'][best_score_index]\n",
    "best_max_depth = grid.cv_results_['param_randomforestclassifier__max_depth'][best_score_index]\n",
    "\n",
    "scorers = {\n",
    "    'accuracy_score': make_scorer(accuracy_score),\n",
    "    'sensitivity_score': make_scorer(recall_score),\n",
    "    'specificity_score': make_scorer(recall_score, pos_label=0),\n",
    "}\n",
    "# now repeat a 5-fold CV n times with the best hyperparameters\n",
    "num_tests = 20\n",
    "all_scores = []\n",
    "for i in range(num_tests):\n",
    "    pipe = make_pipeline(StandardScaler(), RandomForestClassifier(n_estimators=best_n_estimators, max_depth=best_max_depth))\n",
    "    scores = cross_validate(pipe, radiomics_feature_selected, labels_selected, scoring=scorers, cv=StratifiedKFold(shuffle=True))\n",
    "    all_scores.append(scores)\n",
    "for score_str in ['accuracy', 'specificity', 'sensitivity']:\n",
    "    measure = [scores[f'test_{score_str}_score'] for scores in all_scores]\n",
    "    print(f\"{num_tests} x 5-fold CV {score_str} = {np.mean(measure):.3f} +/- {np.std(measure):.3f}\")"
   ]
  },
  {
   "cell_type": "markdown",
   "id": "81875d2c",
   "metadata": {},
   "source": [
    "RBF SVM"
   ]
  },
  {
   "cell_type": "code",
   "execution_count": null,
   "id": "ad912e38",
   "metadata": {},
   "outputs": [],
   "source": [
    "# RBF SVM\n",
    "# first get the best hyperparameters\n",
    "param_grid = {'svc__gamma':np.logspace(-10, -1, 10), 'svc__C':np.linspace(0.001, 20, 10)}\n",
    "mean_test_score_list = []\n",
    "for i in range(5):\n",
    "    radiomics_shuffled, labels_shuffled = shuffle(radiomics_feature_selected, labels_selected)\n",
    "    pipe = make_pipeline(StandardScaler(), svm.SVC())\n",
    "    grid = GridSearchCV(pipe, param_grid=param_grid)\n",
    "    grid.fit(radiomics_shuffled, labels_shuffled)\n",
    "    mean_test_score_list.append(grid.cv_results_['mean_test_score'])\n",
    "    print(grid.best_params_)\n",
    "mean_test_scores = np.stack(mean_test_score_list, axis=1)\n",
    "best_score_index = np.argmax(np.mean(mean_test_scores, axis=1))\n",
    "best_C = grid.cv_results_['param_svc__C'][best_score_index]\n",
    "best_gamma = grid.cv_results_['param_svc__gamma'][best_score_index]\n",
    "\n",
    "scorers = {\n",
    "    'accuracy_score': make_scorer(accuracy_score),\n",
    "    'sensitivity_score': make_scorer(recall_score),\n",
    "    'specificity_score': make_scorer(recall_score, pos_label=0),\n",
    "}\n",
    "# now repeat a 5-fold CV n times with the best hyperparameters\n",
    "num_tests = 20\n",
    "all_scores = []\n",
    "for i in range(num_tests):\n",
    "    pipe = make_pipeline(StandardScaler(), svm.SVC(C=best_C, gamma=best_gamma))\n",
    "    scores = cross_validate(pipe, radiomics_feature_selected, labels_selected, scoring=scorers, cv=StratifiedKFold(shuffle=True))\n",
    "    all_scores.append(scores)\n",
    "for score_str in ['accuracy', 'specificity', 'sensitivity']:\n",
    "    measure = [scores[f'test_{score_str}_score'] for scores in all_scores]\n",
    "    print(f\"{num_tests} x 5-fold CV {score_str} = {np.mean(measure):.3f} +/- {np.std(measure):.3f}\")"
   ]
  },
  {
   "cell_type": "markdown",
   "id": "b3893459",
   "metadata": {},
   "source": [
    "Linear SVM"
   ]
  },
  {
   "cell_type": "code",
   "execution_count": null,
   "id": "cc5d6cec",
   "metadata": {},
   "outputs": [],
   "source": [
    "# Linear SVM\n",
    "# first get the best hyperparameters\n",
    "best_Cs = []\n",
    "for i in range(10):\n",
    "    radiomics_shuffled, labels_shuffled = shuffle(radiomics_feature_selected, labels_selected)\n",
    "    pipe = make_pipeline(StandardScaler(), svm.SVC(kernel='linear'))\n",
    "    grid = GridSearchCV(pipe, param_grid={'svc__C':[0.0001, 0.001, 0.0025, 0.005, 0.01, 0.1, 1]})\n",
    "    grid.fit(radiomics_shuffled, labels_shuffled)\n",
    "    best_score_index = np.argmax(grid.cv_results_['mean_test_score'])\n",
    "    best_Cs.append(grid.cv_results_['params'][best_score_index]['svc__C'])\n",
    "best_C = max(best_Cs, key=best_Cs.count)  # most frequent best_C\n",
    "\n",
    "scorers = {\n",
    "    'accuracy_score': make_scorer(accuracy_score),\n",
    "    'sensitivity_score': make_scorer(recall_score),\n",
    "    'specificity_score': make_scorer(recall_score, pos_label=0),\n",
    "}\n",
    "# now repeat a 5-fold CV n times with the best hyperparameters\n",
    "num_tests = 20\n",
    "all_scores = []\n",
    "for i in range(num_tests):\n",
    "    pipe = make_pipeline(StandardScaler(), svm.SVC(C=best_C, kernel='linear'))\n",
    "    scores = cross_validate(pipe, radiomics_feature_selected, labels_selected, scoring=scorers, cv=StratifiedKFold(shuffle=True))\n",
    "    all_scores.append(scores)\n",
    "for score_str in ['accuracy', 'specificity', 'sensitivity']:\n",
    "    measure = [scores[f'test_{score_str}_score'] for scores in all_scores]\n",
    "    print(f\"{num_tests} x 5-fold CV {score_str} = {np.mean(measure):.3f} +/- {np.std(measure):.3f}\")"
   ]
  },
  {
   "cell_type": "markdown",
   "id": "0d2afd17",
   "metadata": {},
   "source": [
    "Multivariate Logistic Regression"
   ]
  },
  {
   "cell_type": "code",
   "execution_count": null,
   "id": "3c83277a",
   "metadata": {},
   "outputs": [],
   "source": [
    "scorers = {\n",
    "    'accuracy_score': make_scorer(accuracy_score),\n",
    "    'sensitivity_score': make_scorer(recall_score),\n",
    "    'specificity_score': make_scorer(recall_score, pos_label=0),\n",
    "}\n",
    "pipe = make_pipeline(StandardScaler(), LogisticRegression())\n",
    "radiomics_shuffled, labels_shuffled = shuffle(radiomics_feature_selected, labels_selected)\n",
    "scores = cross_validate(pipe, radiomics_shuffled, labels_shuffled, scoring=scorers)\n",
    "print(f\"accuracy: {scores['test_accuracy_score'].mean():.3f} +/- {scores['test_accuracy_score'].std():.3f}\")"
   ]
  },
  {
   "cell_type": "markdown",
   "id": "7c9c26ab",
   "metadata": {},
   "source": [
    "AdaBoost"
   ]
  },
  {
   "cell_type": "code",
   "execution_count": null,
   "id": "7267c242",
   "metadata": {},
   "outputs": [],
   "source": [
    "scorers = {\n",
    "    'accuracy_score': make_scorer(accuracy_score),\n",
    "    'sensitivity_score': make_scorer(recall_score),\n",
    "    'specificity_score': make_scorer(recall_score, pos_label=0),\n",
    "}\n",
    "pipe = make_pipeline(StandardScaler(), AdaBoostClassifier())\n",
    "scores = cross_validate(pipe, radiomics_feature_selected, labels_selected, scoring=scorers, cv=StratifiedKFold(shuffle=True))\n",
    "print(f\"accuracy: {scores['test_accuracy_score'].mean():.3f} +/- {scores['test_accuracy_score'].std():.3f}\")"
   ]
  },
  {
   "cell_type": "markdown",
   "id": "daf72762",
   "metadata": {},
   "source": [
    "Save Best Linear SVM"
   ]
  },
  {
   "cell_type": "code",
   "execution_count": null,
   "id": "da750ea8",
   "metadata": {},
   "outputs": [],
   "source": [
    "# Train and save best linear SVM\n",
    "pipe = make_pipeline(StandardScaler(), svm.SVC(C=best_C, kernel='linear'))\n",
    "radiomics_no0004 = radiomics_feature_selected[8:]\n",
    "labels_no0004 = labels_selected[8:]\n",
    "radiomics_no0004_shuffled, labels_no0004_shuffled = shuffle(radiomics_no0004, labels_no0004)\n",
    "pipe.fit(radiomics_no0004_shuffled, labels_no0004_shuffled)\n",
    "\n",
    "# with open(radiomics_folder / \"linear_svc_3monthOnly_0004complement.pkl\", 'wb') as f:\n",
    "#     pickle.dump(pipe, f)"
   ]
  }
 ],
 "metadata": {
  "kernelspec": {
   "display_name": "tumor-recurrence",
   "language": "python",
   "name": "python3"
  },
  "language_info": {
   "codemirror_mode": {
    "name": "ipython",
    "version": 3
   },
   "file_extension": ".py",
   "mimetype": "text/x-python",
   "name": "python",
   "nbconvert_exporter": "python",
   "pygments_lexer": "ipython3",
   "version": "3.10.9"
  },
  "varInspector": {
   "cols": {
    "lenName": 16,
    "lenType": 16,
    "lenVar": 40
   },
   "kernels_config": {
    "python": {
     "delete_cmd_postfix": "",
     "delete_cmd_prefix": "del ",
     "library": "var_list.py",
     "varRefreshCmd": "print(var_dic_list())"
    },
    "r": {
     "delete_cmd_postfix": ") ",
     "delete_cmd_prefix": "rm(",
     "library": "var_list.r",
     "varRefreshCmd": "cat(var_dic_list()) "
    }
   },
   "types_to_exclude": [
    "module",
    "function",
    "builtin_function_or_method",
    "instance",
    "_Feature"
   ],
   "window_display": false
  },
  "vscode": {
   "interpreter": {
    "hash": "0f4e93a18be5523e7d019aa5b930538b8991d544daf151b8b9df492a2812bbb0"
   }
  }
 },
 "nbformat": 4,
 "nbformat_minor": 5
}
